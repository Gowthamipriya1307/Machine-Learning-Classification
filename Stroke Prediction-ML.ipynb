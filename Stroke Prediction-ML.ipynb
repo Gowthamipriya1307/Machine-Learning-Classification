{
 "cells": [
  {
   "cell_type": "markdown",
   "id": "1abde021",
   "metadata": {},
   "source": [
    "# Importing"
   ]
  },
  {
   "cell_type": "code",
   "execution_count": 4,
   "id": "31614ef6",
   "metadata": {},
   "outputs": [],
   "source": [
    "#importing all the required libraries\n",
    "import numpy as np\n",
    "import pandas as pd\n",
    "import matplotlib.pyplot as plt\n",
    "import seaborn as sns\n",
    "from sklearn.model_selection import train_test_split\n",
    "from sklearn.model_selection import cross_val_score\n",
    "from sklearn.svm import SVC\n",
    "from sklearn.ensemble import RandomForestClassifier\n",
    "from sklearn.linear_model import LogisticRegression\n",
    "from sklearn.metrics import confusion_matrix,classification_report,accuracy_score, precision_score, recall_score, f1_score,roc_auc_score\n",
    "from sklearn.preprocessing import StandardScaler,OneHotEncoder\n",
    "from sklearn.compose import ColumnTransformer\n",
    "from sklearn.pipeline import Pipeline\n",
    "from imblearn.over_sampling import SMOTE\n",
    "from imblearn.pipeline import Pipeline as ImbPipeline\n",
    "import warnings\n",
    "warnings.filterwarnings(\"ignore\")"
   ]
  },
  {
   "cell_type": "code",
   "execution_count": 5,
   "id": "75b9c430",
   "metadata": {},
   "outputs": [],
   "source": [
    "#importing data\n",
    "df=pd.read_csv('stroke_data.csv')"
   ]
  },
  {
   "cell_type": "code",
   "execution_count": 6,
   "id": "065bf6cf",
   "metadata": {},
   "outputs": [
    {
     "data": {
      "text/html": [
       "<div>\n",
       "<style scoped>\n",
       "    .dataframe tbody tr th:only-of-type {\n",
       "        vertical-align: middle;\n",
       "    }\n",
       "\n",
       "    .dataframe tbody tr th {\n",
       "        vertical-align: top;\n",
       "    }\n",
       "\n",
       "    .dataframe thead th {\n",
       "        text-align: right;\n",
       "    }\n",
       "</style>\n",
       "<table border=\"1\" class=\"dataframe\">\n",
       "  <thead>\n",
       "    <tr style=\"text-align: right;\">\n",
       "      <th></th>\n",
       "      <th>id</th>\n",
       "      <th>gender</th>\n",
       "      <th>age</th>\n",
       "      <th>hypertension</th>\n",
       "      <th>heart_disease</th>\n",
       "      <th>ever_married</th>\n",
       "      <th>work_type</th>\n",
       "      <th>residence_type</th>\n",
       "      <th>avg_glucose_level</th>\n",
       "      <th>bmi</th>\n",
       "      <th>smoking_status</th>\n",
       "      <th>stroke</th>\n",
       "    </tr>\n",
       "  </thead>\n",
       "  <tbody>\n",
       "    <tr>\n",
       "      <th>0</th>\n",
       "      <td>9046</td>\n",
       "      <td>Male</td>\n",
       "      <td>67.0</td>\n",
       "      <td>0</td>\n",
       "      <td>1</td>\n",
       "      <td>Yes</td>\n",
       "      <td>Private</td>\n",
       "      <td>Urban</td>\n",
       "      <td>228.69</td>\n",
       "      <td>36.6</td>\n",
       "      <td>formerly smoked</td>\n",
       "      <td>1</td>\n",
       "    </tr>\n",
       "    <tr>\n",
       "      <th>1</th>\n",
       "      <td>51676</td>\n",
       "      <td>Female</td>\n",
       "      <td>61.0</td>\n",
       "      <td>0</td>\n",
       "      <td>0</td>\n",
       "      <td>Yes</td>\n",
       "      <td>Self-employed</td>\n",
       "      <td>Rural</td>\n",
       "      <td>202.21</td>\n",
       "      <td>NaN</td>\n",
       "      <td>never smoked</td>\n",
       "      <td>1</td>\n",
       "    </tr>\n",
       "    <tr>\n",
       "      <th>2</th>\n",
       "      <td>31112</td>\n",
       "      <td>Male</td>\n",
       "      <td>80.0</td>\n",
       "      <td>0</td>\n",
       "      <td>1</td>\n",
       "      <td>Yes</td>\n",
       "      <td>Private</td>\n",
       "      <td>Rural</td>\n",
       "      <td>105.92</td>\n",
       "      <td>32.5</td>\n",
       "      <td>never smoked</td>\n",
       "      <td>1</td>\n",
       "    </tr>\n",
       "    <tr>\n",
       "      <th>3</th>\n",
       "      <td>60182</td>\n",
       "      <td>Female</td>\n",
       "      <td>49.0</td>\n",
       "      <td>0</td>\n",
       "      <td>0</td>\n",
       "      <td>Yes</td>\n",
       "      <td>Private</td>\n",
       "      <td>Urban</td>\n",
       "      <td>171.23</td>\n",
       "      <td>34.4</td>\n",
       "      <td>smokes</td>\n",
       "      <td>1</td>\n",
       "    </tr>\n",
       "    <tr>\n",
       "      <th>4</th>\n",
       "      <td>1665</td>\n",
       "      <td>Female</td>\n",
       "      <td>79.0</td>\n",
       "      <td>1</td>\n",
       "      <td>0</td>\n",
       "      <td>Yes</td>\n",
       "      <td>Self-employed</td>\n",
       "      <td>Rural</td>\n",
       "      <td>174.12</td>\n",
       "      <td>24.0</td>\n",
       "      <td>never smoked</td>\n",
       "      <td>1</td>\n",
       "    </tr>\n",
       "  </tbody>\n",
       "</table>\n",
       "</div>"
      ],
      "text/plain": [
       "      id  gender   age  hypertension  heart_disease ever_married  \\\n",
       "0   9046    Male  67.0             0              1          Yes   \n",
       "1  51676  Female  61.0             0              0          Yes   \n",
       "2  31112    Male  80.0             0              1          Yes   \n",
       "3  60182  Female  49.0             0              0          Yes   \n",
       "4   1665  Female  79.0             1              0          Yes   \n",
       "\n",
       "       work_type residence_type  avg_glucose_level   bmi   smoking_status  \\\n",
       "0        Private          Urban             228.69  36.6  formerly smoked   \n",
       "1  Self-employed          Rural             202.21   NaN     never smoked   \n",
       "2        Private          Rural             105.92  32.5     never smoked   \n",
       "3        Private          Urban             171.23  34.4           smokes   \n",
       "4  Self-employed          Rural             174.12  24.0     never smoked   \n",
       "\n",
       "   stroke  \n",
       "0       1  \n",
       "1       1  \n",
       "2       1  \n",
       "3       1  \n",
       "4       1  "
      ]
     },
     "execution_count": 6,
     "metadata": {},
     "output_type": "execute_result"
    }
   ],
   "source": [
    "df.head()"
   ]
  },
  {
   "cell_type": "code",
   "execution_count": 7,
   "id": "aa879964",
   "metadata": {},
   "outputs": [
    {
     "data": {
      "text/plain": [
       "(5110, 12)"
      ]
     },
     "execution_count": 7,
     "metadata": {},
     "output_type": "execute_result"
    }
   ],
   "source": [
    "df.shape"
   ]
  },
  {
   "cell_type": "code",
   "execution_count": 8,
   "id": "f4445a82",
   "metadata": {},
   "outputs": [
    {
     "name": "stdout",
     "output_type": "stream",
     "text": [
      "<class 'pandas.core.frame.DataFrame'>\n",
      "RangeIndex: 5110 entries, 0 to 5109\n",
      "Data columns (total 12 columns):\n",
      " #   Column             Non-Null Count  Dtype  \n",
      "---  ------             --------------  -----  \n",
      " 0   id                 5110 non-null   int64  \n",
      " 1   gender             5110 non-null   object \n",
      " 2   age                5110 non-null   float64\n",
      " 3   hypertension       5110 non-null   int64  \n",
      " 4   heart_disease      5110 non-null   int64  \n",
      " 5   ever_married       5110 non-null   object \n",
      " 6   work_type          5110 non-null   object \n",
      " 7   residence_type     5110 non-null   object \n",
      " 8   avg_glucose_level  5110 non-null   float64\n",
      " 9   bmi                4909 non-null   float64\n",
      " 10  smoking_status     5110 non-null   object \n",
      " 11  stroke             5110 non-null   int64  \n",
      "dtypes: float64(3), int64(4), object(5)\n",
      "memory usage: 479.2+ KB\n"
     ]
    }
   ],
   "source": [
    "df.info()"
   ]
  },
  {
   "cell_type": "markdown",
   "id": "b0e915fc",
   "metadata": {},
   "source": [
    "There are 4 categorical columns and there are missing values."
   ]
  },
  {
   "cell_type": "markdown",
   "id": "abbf04a7",
   "metadata": {},
   "source": [
    "# Handling missing values"
   ]
  },
  {
   "cell_type": "code",
   "execution_count": 9,
   "id": "940847c6",
   "metadata": {},
   "outputs": [
    {
     "data": {
      "text/plain": [
       "id                     0\n",
       "gender                 0\n",
       "age                    0\n",
       "hypertension           0\n",
       "heart_disease          0\n",
       "ever_married           0\n",
       "work_type              0\n",
       "residence_type         0\n",
       "avg_glucose_level      0\n",
       "bmi                  201\n",
       "smoking_status         0\n",
       "stroke                 0\n",
       "dtype: int64"
      ]
     },
     "execution_count": 9,
     "metadata": {},
     "output_type": "execute_result"
    }
   ],
   "source": [
    "df.isna().sum()"
   ]
  },
  {
   "cell_type": "code",
   "execution_count": 10,
   "id": "41de8da0",
   "metadata": {},
   "outputs": [
    {
     "data": {
      "image/png": "[encoded data removed]",
      "text/plain": [
       "<Figure size 432x288 with 1 Axes>"
      ]
     },
     "metadata": {
      "needs_background": "light"
     },
     "output_type": "display_data"
    }
   ],
   "source": [
    "sns.histplot(df['bmi'].dropna(), kde=True)\n",
    "plt.show()"
   ]
  },
  {
   "cell_type": "markdown",
   "id": "7e23250e",
   "metadata": {},
   "source": [
    "Data is right skewed.It is better to use median to fill the missing values than the mean because it is less affected by outliers and preserves the skewness of the distribution."
   ]
  },
  {
   "cell_type": "code",
   "execution_count": 11,
   "id": "8e4d7919",
   "metadata": {},
   "outputs": [],
   "source": [
    "df['bmi'].fillna(df['bmi'].median(), inplace=True)"
   ]
  },
  {
   "cell_type": "code",
   "execution_count": 12,
   "id": "229a0d9b",
   "metadata": {},
   "outputs": [
    {
     "data": {
      "text/plain": [
       "id                   0\n",
       "gender               0\n",
       "age                  0\n",
       "hypertension         0\n",
       "heart_disease        0\n",
       "ever_married         0\n",
       "work_type            0\n",
       "residence_type       0\n",
       "avg_glucose_level    0\n",
       "bmi                  0\n",
       "smoking_status       0\n",
       "stroke               0\n",
       "dtype: int64"
      ]
     },
     "execution_count": 12,
     "metadata": {},
     "output_type": "execute_result"
    }
   ],
   "source": [
    "df.isna().sum()"
   ]
  },
  {
   "cell_type": "code",
   "execution_count": 13,
   "id": "a63d1e3e",
   "metadata": {},
   "outputs": [
    {
     "data": {
      "text/plain": [
       "0"
      ]
     },
     "execution_count": 13,
     "metadata": {},
     "output_type": "execute_result"
    }
   ],
   "source": [
    "df.duplicated().sum()"
   ]
  },
  {
   "cell_type": "markdown",
   "id": "95d1d2bb",
   "metadata": {},
   "source": [
    "# Exploratory Data Analysis"
   ]
  },
  {
   "cell_type": "code",
   "execution_count": 14,
   "id": "3d650658",
   "metadata": {},
   "outputs": [
    {
     "data": {
      "image/png": "[encoded data removed]",
      "text/plain": [
       "<Figure size 432x432 with 1 Axes>"
      ]
     },
     "metadata": {},
     "output_type": "display_data"
    }
   ],
   "source": [
    "#Stroke Occurence Chance\n",
    "stroke_counts = df['stroke'].value_counts()\n",
    "explode = [0, 0.1] \n",
    "plt.figure(figsize=(6, 6))\n",
    "plt.pie(stroke_counts, labels=stroke_counts.index, autopct='%1.1f%%', startangle=90, colors=['lightblue', 'salmon'],explode=explode)\n",
    "plt.title(\"Stroke Occurrence\")\n",
    "plt.show()"
   ]
  },
  {
   "cell_type": "markdown",
   "id": "8cb9a05a",
   "metadata": {},
   "source": [
    "Strokes were reported in just 5% of the data."
   ]
  },
  {
   "cell_type": "code",
   "execution_count": 15,
   "id": "c1ebb927",
   "metadata": {},
   "outputs": [
    {
     "data": {
      "text/plain": [
       "Female    2994\n",
       "Male      2115\n",
       "Other        1\n",
       "Name: gender, dtype: int64"
      ]
     },
     "execution_count": 15,
     "metadata": {},
     "output_type": "execute_result"
    }
   ],
   "source": [
    "df.gender.value_counts()"
   ]
  },
  {
   "cell_type": "markdown",
   "id": "2696a30c",
   "metadata": {},
   "source": [
    "Since 'Other' is only present in one row, it would be best to remove that row."
   ]
  },
  {
   "cell_type": "code",
   "execution_count": 16,
   "id": "a1896668",
   "metadata": {},
   "outputs": [],
   "source": [
    "df.drop(df[df['gender']=='Other'].index,inplace=True)"
   ]
  },
  {
   "cell_type": "code",
   "execution_count": 14,
   "id": "0ced6098",
   "metadata": {},
   "outputs": [
    {
     "data": {
      "text/plain": [
       "(5109, 12)"
      ]
     },
     "execution_count": 14,
     "metadata": {},
     "output_type": "execute_result"
    }
   ],
   "source": [
    "df.shape"
   ]
  },
  {
   "cell_type": "code",
   "execution_count": 17,
   "id": "05a50b45",
   "metadata": {},
   "outputs": [
    {
     "data": {
      "image/png": "[encoded data removed]",
      "text/plain": [
       "<Figure size 432x288 with 1 Axes>"
      ]
     },
     "metadata": {
      "needs_background": "light"
     },
     "output_type": "display_data"
    }
   ],
   "source": [
    "#Gender vs Stroke\n",
    "plt.figure(figsize=(6, 4))\n",
    "sns.countplot(x='gender', hue='stroke', data=df, palette=['lightblue', 'salmon'])\n",
    "plt.title(\"Stroke Probability by Gender\")\n",
    "plt.xlabel(\"Gender\")\n",
    "plt.ylabel(\"Count\")\n",
    "plt.legend(title=\"Stroke\", labels=[\"No Stroke\", \"Stroke\"])\n",
    "plt.show()"
   ]
  },
  {
   "cell_type": "code",
   "execution_count": 16,
   "id": "f902e59f",
   "metadata": {},
   "outputs": [
    {
     "data": {
      "image/png": "[encoded data removed]",
      "text/plain": [
       "<Figure size 432x288 with 1 Axes>"
      ]
     },
     "metadata": {
      "needs_background": "light"
     },
     "output_type": "display_data"
    }
   ],
   "source": [
    "#Ever_married vs Stroke\n",
    "plt.figure(figsize=(6, 4))\n",
    "sns.countplot(x='ever_married', hue='stroke', data=df, palette=['lightblue', 'salmon'])\n",
    "plt.title(\"Stroke Probability by ever_married\")\n",
    "plt.xlabel(\"ever_married\")\n",
    "plt.ylabel(\"Count\")\n",
    "plt.legend(title=\"Stroke\", labels=[\"No Stroke\", \"Stroke\"])\n",
    "plt.show()"
   ]
  },
  {
   "cell_type": "code",
   "execution_count": 18,
   "id": "0c74b383",
   "metadata": {},
   "outputs": [
    {
     "data": {
      "image/png": "[encoded data removed]",
      "text/plain": [
       "<Figure size 432x288 with 1 Axes>"
      ]
     },
     "metadata": {
      "needs_background": "light"
     },
     "output_type": "display_data"
    }
   ],
   "source": [
    "#Residence_type vs Stroke\n",
    "plt.figure(figsize=(6, 4))\n",
    "sns.countplot(x='residence_type', hue='stroke', data=df, palette=['lightblue', 'salmon'])\n",
    "plt.title(\"Stroke Probability by residence type\")\n",
    "plt.xlabel(\"residence_type\")\n",
    "plt.ylabel(\"Count\")\n",
    "plt.legend(title=\"Stroke\", labels=[\"No Stroke\", \"Stroke\"])\n",
    "plt.show()"
   ]
  },
  {
   "cell_type": "markdown",
   "id": "9677a5e6",
   "metadata": {},
   "source": [
    "The difference in stroke risk between rural and urban areas is minimal."
   ]
  },
  {
   "cell_type": "code",
   "execution_count": 19,
   "id": "e171a9d0",
   "metadata": {},
   "outputs": [
    {
     "data": {
      "image/png": "[encoded data removed]",
      "text/plain": [
       "<Figure size 432x288 with 1 Axes>"
      ]
     },
     "metadata": {
      "needs_background": "light"
     },
     "output_type": "display_data"
    }
   ],
   "source": [
    "#Work type vs Stroke\n",
    "plt.figure(figsize=(6, 4))\n",
    "sns.countplot(x='work_type', hue='stroke', data=df, palette=['lightblue', 'salmon'])\n",
    "plt.title(\"Stroke Probability by work type\")\n",
    "plt.xlabel(\"work_type\")\n",
    "plt.ylabel(\"Count\")\n",
    "plt.legend(title=\"Stroke\", labels=[\"No Stroke\", \"Stroke\"])\n",
    "plt.show()"
   ]
  },
  {
   "cell_type": "markdown",
   "id": "8da61a50",
   "metadata": {},
   "source": [
    "Unable to determine which individuals with a certain work type are more likely to suffer strokes due to the uneven distribution of categories. Plotting probabilities is therefore preferable."
   ]
  },
  {
   "cell_type": "code",
   "execution_count": 20,
   "id": "64eb18f7",
   "metadata": {},
   "outputs": [
    {
     "data": {
      "image/png": "[encoded data removed]",
      "text/plain": [
       "<Figure size 432x288 with 1 Axes>"
      ]
     },
     "metadata": {
      "needs_background": "light"
     },
     "output_type": "display_data"
    }
   ],
   "source": [
    "# Stroke probabilities per work_type\n",
    "work_type_counts = df['work_type'].value_counts()\n",
    "stroke_counts = df[df['stroke'] == 1]['work_type'].value_counts()\n",
    "probabilities = (stroke_counts / work_type_counts).fillna(0)  # Fill NaN with 0 if no strokes in a category\n",
    "\n",
    "plt.figure(figsize=(6, 4))\n",
    "ax = sns.barplot(x=probabilities.index, y=probabilities.values, palette=['lightblue', 'salmon'])\n",
    "\n",
    "# Add probability values on top of bars\n",
    "for i, p in enumerate(probabilities.values):\n",
    "    ax.text(i, p + 0.02, f'{p:.4f}', ha='center', fontsize=12, fontweight='bold')\n",
    "\n",
    "plt.title(\"Probability of Stroke by work type\")\n",
    "plt.xlabel(\"work_type\")\n",
    "plt.ylabel(\"Probability\")\n",
    "plt.ylim(0, 1) \n",
    "plt.show()"
   ]
  },
  {
   "cell_type": "markdown",
   "id": "ffc2d8fe",
   "metadata": {},
   "source": [
    "Comparitively employed people have higher risk of stroke"
   ]
  },
  {
   "cell_type": "code",
   "execution_count": 21,
   "id": "44f19d2a",
   "metadata": {},
   "outputs": [
    {
     "data": {
      "image/png": "[encoded data removed]",
      "text/plain": [
       "<Figure size 432x288 with 1 Axes>"
      ]
     },
     "metadata": {
      "needs_background": "light"
     },
     "output_type": "display_data"
    }
   ],
   "source": [
    "# Stroke probabilities per ever_married\n",
    "ever_married_counts = df['ever_married'].value_counts()\n",
    "stroke_counts = df[df['stroke'] == 1]['ever_married'].value_counts()\n",
    "probabilities = (stroke_counts / ever_married_counts).fillna(0)  # Fill NaN with 0 if no strokes in a category\n",
    "\n",
    "plt.figure(figsize=(6, 4))\n",
    "ax = sns.barplot(x=probabilities.index, y=probabilities.values, palette=['lightblue', 'salmon'])\n",
    "\n",
    "# Add probability values on top of bars\n",
    "for i, p in enumerate(probabilities.values):\n",
    "    ax.text(i, p + 0.02, f'{p:.2f}', ha='center', fontsize=12, fontweight='bold')\n",
    "\n",
    "plt.title(\"Probability of Stroke by ever married\")\n",
    "plt.xlabel(\"ever_married\")\n",
    "plt.ylabel(\"Probability\")\n",
    "plt.ylim(0, 1)\n",
    "plt.show()"
   ]
  },
  {
   "cell_type": "markdown",
   "id": "2e4021b9",
   "metadata": {},
   "source": [
    "The risk of stroke is slightly higher for married people."
   ]
  },
  {
   "cell_type": "code",
   "execution_count": 22,
   "id": "7b408586",
   "metadata": {},
   "outputs": [
    {
     "data": {
      "image/png": "[encoded data removed]",
      "text/plain": [
       "<Figure size 576x432 with 1 Axes>"
      ]
     },
     "metadata": {},
     "output_type": "display_data"
    }
   ],
   "source": [
    "df_grouped = df.groupby(['heart_disease', 'stroke']).size().unstack(fill_value=0)\n",
    "df_grouped_percent = df_grouped.div(df_grouped.sum(axis=1), axis=0) * 100\n",
    "# Data\n",
    "labels = ['No Heart Disease', 'Heart Disease']\n",
    "sizes = df_grouped_percent[1]\n",
    "colors = ['lightblue', 'salmon']  \n",
    "explode = [0, 0.1]  \n",
    "\n",
    "# Creating pie chart\n",
    "fig, ax = plt.subplots(figsize=(8, 6))\n",
    "wedges, texts, autotexts = ax.pie(\n",
    "    sizes, labels=labels, autopct='%1.1f%%', startangle=140, colors=colors, explode=explode, \n",
    "    pctdistance=0.85, wedgeprops={'edgecolor': 'white', 'linewidth': 2}\n",
    ")\n",
    "\n",
    "# Adjusting text styles for clarity\n",
    "plt.setp(autotexts, size=12, weight=\"bold\", color='white')\n",
    "plt.setp(texts, size=14, weight=\"bold\", color='black')\n",
    "\n",
    "# Title\n",
    "ax.set_title('Stroke Risk by Heart Disease Status', fontsize=16, weight='bold')\n",
    "ax.axis('equal')\n",
    "plt.show()"
   ]
  },
  {
   "cell_type": "markdown",
   "id": "9b5e8905",
   "metadata": {},
   "source": [
    "Individuals with heart disease have a 60% higher risk of having a stroke."
   ]
  },
  {
   "cell_type": "code",
   "execution_count": 23,
   "id": "6becdae8",
   "metadata": {},
   "outputs": [
    {
     "data": {
      "image/png": "[encoded data removed]",
      "text/plain": [
       "<Figure size 576x432 with 1 Axes>"
      ]
     },
     "metadata": {},
     "output_type": "display_data"
    }
   ],
   "source": [
    "df_grouped = df.groupby(['hypertension', 'stroke']).size().unstack(fill_value=0)\n",
    "df_grouped_percent = df_grouped.div(df_grouped.sum(axis=1), axis=0) * 100\n",
    "# Data\n",
    "labels = ['No Hypertension', 'Hypertension']\n",
    "sizes = df_grouped_percent[1]\n",
    "colors = ['lightblue', 'salmon']  \n",
    "explode = [0, 0.1]  \n",
    "\n",
    "# Creating pie chart\n",
    "fig, ax = plt.subplots(figsize=(8, 6))\n",
    "wedges, texts, autotexts = ax.pie(\n",
    "    sizes, labels=labels, autopct='%1.1f%%', startangle=140, colors=colors, explode=explode, \n",
    "    pctdistance=0.85, wedgeprops={'edgecolor': 'white', 'linewidth': 2}\n",
    ")\n",
    "\n",
    "# Adjusting text styles for clarity\n",
    "plt.setp(autotexts, size=12, weight=\"bold\", color='white')\n",
    "plt.setp(texts, size=14, weight=\"bold\", color='black')\n",
    "\n",
    "# Title\n",
    "ax.set_title('Stroke Risk by Hypertension Status', fontsize=16, weight='bold')\n",
    "ax.axis('equal')\n",
    "plt.show()"
   ]
  },
  {
   "cell_type": "markdown",
   "id": "02d834f3",
   "metadata": {},
   "source": [
    "Individuals with Hypertension have a 54% higher risk of having a stroke"
   ]
  },
  {
   "cell_type": "code",
   "execution_count": 24,
   "id": "924c1dd8",
   "metadata": {},
   "outputs": [
    {
     "data": {
      "text/plain": [
       "1614     0.08\n",
       "3295     0.08\n",
       "3968     0.16\n",
       "3618     0.16\n",
       "4021     0.16\n",
       "        ...  \n",
       "2876    82.00\n",
       "35      82.00\n",
       "3603    82.00\n",
       "4088    82.00\n",
       "4819    82.00\n",
       "Name: age, Length: 5109, dtype: float64"
      ]
     },
     "execution_count": 24,
     "metadata": {},
     "output_type": "execute_result"
    }
   ],
   "source": [
    "df.age.sort_values()"
   ]
  },
  {
   "cell_type": "code",
   "execution_count": 25,
   "id": "c2fbe121",
   "metadata": {},
   "outputs": [
    {
     "data": {
      "image/png": "[encoded data removed]",
      "text/plain": [
       "<Figure size 432x288 with 1 Axes>"
      ]
     },
     "metadata": {
      "needs_background": "light"
     },
     "output_type": "display_data"
    }
   ],
   "source": [
    "sns.histplot(df['age'], kde=True)\n",
    "plt.title(\"Age Distribution\")\n",
    "plt.show()"
   ]
  },
  {
   "cell_type": "markdown",
   "id": "d67d693e",
   "metadata": {},
   "source": [
    "looks like there are decimal values in age that too less than 1 year they might be outliers"
   ]
  },
  {
   "cell_type": "code",
   "execution_count": 26,
   "id": "bee0eecf",
   "metadata": {},
   "outputs": [
    {
     "data": {
      "text/html": [
       "<div>\n",
       "<style scoped>\n",
       "    .dataframe tbody tr th:only-of-type {\n",
       "        vertical-align: middle;\n",
       "    }\n",
       "\n",
       "    .dataframe tbody tr th {\n",
       "        vertical-align: top;\n",
       "    }\n",
       "\n",
       "    .dataframe thead th {\n",
       "        text-align: right;\n",
       "    }\n",
       "</style>\n",
       "<table border=\"1\" class=\"dataframe\">\n",
       "  <thead>\n",
       "    <tr style=\"text-align: right;\">\n",
       "      <th></th>\n",
       "      <th>id</th>\n",
       "      <th>gender</th>\n",
       "      <th>age</th>\n",
       "      <th>hypertension</th>\n",
       "      <th>heart_disease</th>\n",
       "      <th>ever_married</th>\n",
       "      <th>work_type</th>\n",
       "      <th>residence_type</th>\n",
       "      <th>avg_glucose_level</th>\n",
       "      <th>bmi</th>\n",
       "      <th>smoking_status</th>\n",
       "      <th>stroke</th>\n",
       "    </tr>\n",
       "  </thead>\n",
       "  <tbody>\n",
       "    <tr>\n",
       "      <th>1614</th>\n",
       "      <td>47350</td>\n",
       "      <td>Female</td>\n",
       "      <td>0.08</td>\n",
       "      <td>0</td>\n",
       "      <td>0</td>\n",
       "      <td>No</td>\n",
       "      <td>children</td>\n",
       "      <td>Urban</td>\n",
       "      <td>139.67</td>\n",
       "      <td>14.1</td>\n",
       "      <td>Unknown</td>\n",
       "      <td>0</td>\n",
       "    </tr>\n",
       "    <tr>\n",
       "      <th>3295</th>\n",
       "      <td>29955</td>\n",
       "      <td>Male</td>\n",
       "      <td>0.08</td>\n",
       "      <td>0</td>\n",
       "      <td>0</td>\n",
       "      <td>No</td>\n",
       "      <td>children</td>\n",
       "      <td>Rural</td>\n",
       "      <td>70.33</td>\n",
       "      <td>16.9</td>\n",
       "      <td>Unknown</td>\n",
       "      <td>0</td>\n",
       "    </tr>\n",
       "    <tr>\n",
       "      <th>3968</th>\n",
       "      <td>41500</td>\n",
       "      <td>Male</td>\n",
       "      <td>0.16</td>\n",
       "      <td>0</td>\n",
       "      <td>0</td>\n",
       "      <td>No</td>\n",
       "      <td>children</td>\n",
       "      <td>Rural</td>\n",
       "      <td>69.79</td>\n",
       "      <td>13.0</td>\n",
       "      <td>Unknown</td>\n",
       "      <td>0</td>\n",
       "    </tr>\n",
       "    <tr>\n",
       "      <th>3618</th>\n",
       "      <td>22877</td>\n",
       "      <td>Male</td>\n",
       "      <td>0.16</td>\n",
       "      <td>0</td>\n",
       "      <td>0</td>\n",
       "      <td>No</td>\n",
       "      <td>children</td>\n",
       "      <td>Urban</td>\n",
       "      <td>114.71</td>\n",
       "      <td>17.4</td>\n",
       "      <td>Unknown</td>\n",
       "      <td>0</td>\n",
       "    </tr>\n",
       "    <tr>\n",
       "      <th>4021</th>\n",
       "      <td>8247</td>\n",
       "      <td>Male</td>\n",
       "      <td>0.16</td>\n",
       "      <td>0</td>\n",
       "      <td>0</td>\n",
       "      <td>No</td>\n",
       "      <td>children</td>\n",
       "      <td>Urban</td>\n",
       "      <td>109.52</td>\n",
       "      <td>13.9</td>\n",
       "      <td>Unknown</td>\n",
       "      <td>0</td>\n",
       "    </tr>\n",
       "    <tr>\n",
       "      <th>...</th>\n",
       "      <td>...</td>\n",
       "      <td>...</td>\n",
       "      <td>...</td>\n",
       "      <td>...</td>\n",
       "      <td>...</td>\n",
       "      <td>...</td>\n",
       "      <td>...</td>\n",
       "      <td>...</td>\n",
       "      <td>...</td>\n",
       "      <td>...</td>\n",
       "      <td>...</td>\n",
       "      <td>...</td>\n",
       "    </tr>\n",
       "    <tr>\n",
       "      <th>2876</th>\n",
       "      <td>11327</td>\n",
       "      <td>Female</td>\n",
       "      <td>82.00</td>\n",
       "      <td>0</td>\n",
       "      <td>0</td>\n",
       "      <td>Yes</td>\n",
       "      <td>Self-employed</td>\n",
       "      <td>Urban</td>\n",
       "      <td>79.96</td>\n",
       "      <td>27.0</td>\n",
       "      <td>formerly smoked</td>\n",
       "      <td>0</td>\n",
       "    </tr>\n",
       "    <tr>\n",
       "      <th>35</th>\n",
       "      <td>712</td>\n",
       "      <td>Female</td>\n",
       "      <td>82.00</td>\n",
       "      <td>1</td>\n",
       "      <td>1</td>\n",
       "      <td>No</td>\n",
       "      <td>Private</td>\n",
       "      <td>Rural</td>\n",
       "      <td>84.03</td>\n",
       "      <td>26.5</td>\n",
       "      <td>formerly smoked</td>\n",
       "      <td>1</td>\n",
       "    </tr>\n",
       "    <tr>\n",
       "      <th>3603</th>\n",
       "      <td>28247</td>\n",
       "      <td>Male</td>\n",
       "      <td>82.00</td>\n",
       "      <td>0</td>\n",
       "      <td>0</td>\n",
       "      <td>No</td>\n",
       "      <td>Self-employed</td>\n",
       "      <td>Urban</td>\n",
       "      <td>101.57</td>\n",
       "      <td>24.3</td>\n",
       "      <td>smokes</td>\n",
       "      <td>0</td>\n",
       "    </tr>\n",
       "    <tr>\n",
       "      <th>4088</th>\n",
       "      <td>27705</td>\n",
       "      <td>Female</td>\n",
       "      <td>82.00</td>\n",
       "      <td>0</td>\n",
       "      <td>1</td>\n",
       "      <td>Yes</td>\n",
       "      <td>Self-employed</td>\n",
       "      <td>Rural</td>\n",
       "      <td>88.60</td>\n",
       "      <td>32.5</td>\n",
       "      <td>Unknown</td>\n",
       "      <td>0</td>\n",
       "    </tr>\n",
       "    <tr>\n",
       "      <th>4819</th>\n",
       "      <td>48118</td>\n",
       "      <td>Female</td>\n",
       "      <td>82.00</td>\n",
       "      <td>0</td>\n",
       "      <td>0</td>\n",
       "      <td>Yes</td>\n",
       "      <td>Self-employed</td>\n",
       "      <td>Urban</td>\n",
       "      <td>113.45</td>\n",
       "      <td>30.3</td>\n",
       "      <td>never smoked</td>\n",
       "      <td>0</td>\n",
       "    </tr>\n",
       "  </tbody>\n",
       "</table>\n",
       "<p>5109 rows × 12 columns</p>\n",
       "</div>"
      ],
      "text/plain": [
       "         id  gender    age  hypertension  heart_disease ever_married  \\\n",
       "1614  47350  Female   0.08             0              0           No   \n",
       "3295  29955    Male   0.08             0              0           No   \n",
       "3968  41500    Male   0.16             0              0           No   \n",
       "3618  22877    Male   0.16             0              0           No   \n",
       "4021   8247    Male   0.16             0              0           No   \n",
       "...     ...     ...    ...           ...            ...          ...   \n",
       "2876  11327  Female  82.00             0              0          Yes   \n",
       "35      712  Female  82.00             1              1           No   \n",
       "3603  28247    Male  82.00             0              0           No   \n",
       "4088  27705  Female  82.00             0              1          Yes   \n",
       "4819  48118  Female  82.00             0              0          Yes   \n",
       "\n",
       "          work_type residence_type  avg_glucose_level   bmi   smoking_status  \\\n",
       "1614       children          Urban             139.67  14.1          Unknown   \n",
       "3295       children          Rural              70.33  16.9          Unknown   \n",
       "3968       children          Rural              69.79  13.0          Unknown   \n",
       "3618       children          Urban             114.71  17.4          Unknown   \n",
       "4021       children          Urban             109.52  13.9          Unknown   \n",
       "...             ...            ...                ...   ...              ...   \n",
       "2876  Self-employed          Urban              79.96  27.0  formerly smoked   \n",
       "35          Private          Rural              84.03  26.5  formerly smoked   \n",
       "3603  Self-employed          Urban             101.57  24.3           smokes   \n",
       "4088  Self-employed          Rural              88.60  32.5          Unknown   \n",
       "4819  Self-employed          Urban             113.45  30.3     never smoked   \n",
       "\n",
       "      stroke  \n",
       "1614       0  \n",
       "3295       0  \n",
       "3968       0  \n",
       "3618       0  \n",
       "4021       0  \n",
       "...      ...  \n",
       "2876       0  \n",
       "35         1  \n",
       "3603       0  \n",
       "4088       0  \n",
       "4819       0  \n",
       "\n",
       "[5109 rows x 12 columns]"
      ]
     },
     "execution_count": 26,
     "metadata": {},
     "output_type": "execute_result"
    }
   ],
   "source": [
    "df.sort_values(by='age')"
   ]
  },
  {
   "cell_type": "markdown",
   "id": "38054361",
   "metadata": {},
   "source": [
    "All these people are children, so they are not outliers; no need to drop them. Better to round up the decimal values of ages."
   ]
  },
  {
   "cell_type": "code",
   "execution_count": 27,
   "id": "c8212b46",
   "metadata": {},
   "outputs": [],
   "source": [
    "df['age']=np.ceil(df['age'])"
   ]
  },
  {
   "cell_type": "code",
   "execution_count": 28,
   "id": "53177b41",
   "metadata": {},
   "outputs": [
    {
     "data": {
      "text/plain": [
       "<Axes: xlabel='age', ylabel='Density'>"
      ]
     },
     "execution_count": 28,
     "metadata": {},
     "output_type": "execute_result"
    },
    {
     "data": {
      "image/png": "[encoded data removed]",
      "text/plain": [
       "<Figure size 432x288 with 1 Axes>"
      ]
     },
     "metadata": {
      "needs_background": "light"
     },
     "output_type": "display_data"
    }
   ],
   "source": [
    "sns.kdeplot(data=df[df['stroke'] == 0], x='age', shade=True, alpha=1, color='lightblue')\n",
    "sns.kdeplot(data=df[df['stroke'] == 1], x='age', shade=True, alpha=0.8, color='salmon')"
   ]
  },
  {
   "cell_type": "markdown",
   "id": "a7a25658",
   "metadata": {},
   "source": [
    "Significantly more strokes are occurring in older adults."
   ]
  },
  {
   "cell_type": "code",
   "execution_count": 29,
   "id": "10217e73",
   "metadata": {},
   "outputs": [],
   "source": [
    "#Smoking status vs Stroke\n",
    "df_grouped = df.groupby(['smoking_status', 'stroke']).size().unstack(fill_value=0)\n",
    "df_grouped_percent = df_grouped.div(df_grouped.sum(axis=1), axis=0) * 100\n"
   ]
  },
  {
   "cell_type": "code",
   "execution_count": 30,
   "id": "d60f20e9",
   "metadata": {},
   "outputs": [
    {
     "data": {
      "image/png": "[encoded data removed]",
      "text/plain": [
       "<Figure size 432x288 with 1 Axes>"
      ]
     },
     "metadata": {
      "needs_background": "light"
     },
     "output_type": "display_data"
    }
   ],
   "source": [
    "ax=sns.countplot(x='smoking_status',data=df[df['stroke']==1],palette=['lightblue', 'salmon','#C3A2C8', '#F4D7B7'])\n",
    "ax.bar_label(ax.containers[0])  \n",
    "plt.show()"
   ]
  },
  {
   "cell_type": "code",
   "execution_count": 31,
   "id": "583e77dd",
   "metadata": {},
   "outputs": [
    {
     "data": {
      "image/png": "[encoded data removed]",
      "text/plain": [
       "<Figure size 432x288 with 1 Axes>"
      ]
     },
     "metadata": {
      "needs_background": "light"
     },
     "output_type": "display_data"
    }
   ],
   "source": [
    "#avg_glucose_level vs stroke\n",
    "sns.boxplot(x='stroke', y='avg_glucose_level', data=df,palette=['lightblue', 'salmon'])\n",
    "plt.title(\"Glucose Level vs Stroke\")\n",
    "plt.show()"
   ]
  },
  {
   "cell_type": "markdown",
   "id": "e62687f2",
   "metadata": {},
   "source": [
    "High avg_glucose_level individuals are more likely to suffer a stroke"
   ]
  },
  {
   "cell_type": "markdown",
   "id": "86998d2a",
   "metadata": {},
   "source": [
    "# Feature transformation"
   ]
  },
  {
   "cell_type": "code",
   "execution_count": 32,
   "id": "3e1d6e1b",
   "metadata": {},
   "outputs": [
    {
     "data": {
      "text/html": [
       "<div>\n",
       "<style scoped>\n",
       "    .dataframe tbody tr th:only-of-type {\n",
       "        vertical-align: middle;\n",
       "    }\n",
       "\n",
       "    .dataframe tbody tr th {\n",
       "        vertical-align: top;\n",
       "    }\n",
       "\n",
       "    .dataframe thead th {\n",
       "        text-align: right;\n",
       "    }\n",
       "</style>\n",
       "<table border=\"1\" class=\"dataframe\">\n",
       "  <thead>\n",
       "    <tr style=\"text-align: right;\">\n",
       "      <th></th>\n",
       "      <th>id</th>\n",
       "      <th>gender</th>\n",
       "      <th>age</th>\n",
       "      <th>hypertension</th>\n",
       "      <th>heart_disease</th>\n",
       "      <th>ever_married</th>\n",
       "      <th>work_type</th>\n",
       "      <th>residence_type</th>\n",
       "      <th>avg_glucose_level</th>\n",
       "      <th>bmi</th>\n",
       "      <th>smoking_status</th>\n",
       "      <th>stroke</th>\n",
       "    </tr>\n",
       "  </thead>\n",
       "  <tbody>\n",
       "    <tr>\n",
       "      <th>0</th>\n",
       "      <td>9046</td>\n",
       "      <td>Male</td>\n",
       "      <td>67.0</td>\n",
       "      <td>0</td>\n",
       "      <td>1</td>\n",
       "      <td>Yes</td>\n",
       "      <td>Private</td>\n",
       "      <td>Urban</td>\n",
       "      <td>228.69</td>\n",
       "      <td>36.6</td>\n",
       "      <td>formerly smoked</td>\n",
       "      <td>1</td>\n",
       "    </tr>\n",
       "    <tr>\n",
       "      <th>1</th>\n",
       "      <td>51676</td>\n",
       "      <td>Female</td>\n",
       "      <td>61.0</td>\n",
       "      <td>0</td>\n",
       "      <td>0</td>\n",
       "      <td>Yes</td>\n",
       "      <td>Self-employed</td>\n",
       "      <td>Rural</td>\n",
       "      <td>202.21</td>\n",
       "      <td>28.1</td>\n",
       "      <td>never smoked</td>\n",
       "      <td>1</td>\n",
       "    </tr>\n",
       "    <tr>\n",
       "      <th>2</th>\n",
       "      <td>31112</td>\n",
       "      <td>Male</td>\n",
       "      <td>80.0</td>\n",
       "      <td>0</td>\n",
       "      <td>1</td>\n",
       "      <td>Yes</td>\n",
       "      <td>Private</td>\n",
       "      <td>Rural</td>\n",
       "      <td>105.92</td>\n",
       "      <td>32.5</td>\n",
       "      <td>never smoked</td>\n",
       "      <td>1</td>\n",
       "    </tr>\n",
       "    <tr>\n",
       "      <th>3</th>\n",
       "      <td>60182</td>\n",
       "      <td>Female</td>\n",
       "      <td>49.0</td>\n",
       "      <td>0</td>\n",
       "      <td>0</td>\n",
       "      <td>Yes</td>\n",
       "      <td>Private</td>\n",
       "      <td>Urban</td>\n",
       "      <td>171.23</td>\n",
       "      <td>34.4</td>\n",
       "      <td>smokes</td>\n",
       "      <td>1</td>\n",
       "    </tr>\n",
       "    <tr>\n",
       "      <th>4</th>\n",
       "      <td>1665</td>\n",
       "      <td>Female</td>\n",
       "      <td>79.0</td>\n",
       "      <td>1</td>\n",
       "      <td>0</td>\n",
       "      <td>Yes</td>\n",
       "      <td>Self-employed</td>\n",
       "      <td>Rural</td>\n",
       "      <td>174.12</td>\n",
       "      <td>24.0</td>\n",
       "      <td>never smoked</td>\n",
       "      <td>1</td>\n",
       "    </tr>\n",
       "  </tbody>\n",
       "</table>\n",
       "</div>"
      ],
      "text/plain": [
       "      id  gender   age  hypertension  heart_disease ever_married  \\\n",
       "0   9046    Male  67.0             0              1          Yes   \n",
       "1  51676  Female  61.0             0              0          Yes   \n",
       "2  31112    Male  80.0             0              1          Yes   \n",
       "3  60182  Female  49.0             0              0          Yes   \n",
       "4   1665  Female  79.0             1              0          Yes   \n",
       "\n",
       "       work_type residence_type  avg_glucose_level   bmi   smoking_status  \\\n",
       "0        Private          Urban             228.69  36.6  formerly smoked   \n",
       "1  Self-employed          Rural             202.21  28.1     never smoked   \n",
       "2        Private          Rural             105.92  32.5     never smoked   \n",
       "3        Private          Urban             171.23  34.4           smokes   \n",
       "4  Self-employed          Rural             174.12  24.0     never smoked   \n",
       "\n",
       "   stroke  \n",
       "0       1  \n",
       "1       1  \n",
       "2       1  \n",
       "3       1  \n",
       "4       1  "
      ]
     },
     "execution_count": 32,
     "metadata": {},
     "output_type": "execute_result"
    }
   ],
   "source": [
    "df.head()"
   ]
  },
  {
   "cell_type": "code",
   "execution_count": 33,
   "id": "5749e88e",
   "metadata": {},
   "outputs": [],
   "source": [
    "\n",
    "# Convert binary categorical to numerical\n",
    "df['ever_married'] = df['ever_married'].apply(lambda x: 1 if x == 'Yes' else 0)\n",
    "df['residence_type'] = df['residence_type'].apply(lambda x: 1 if x == 'Urban' else 0)\n"
   ]
  },
  {
   "cell_type": "code",
   "execution_count": 34,
   "id": "e83a59f7",
   "metadata": {},
   "outputs": [],
   "source": [
    "# Define X and y\n",
    "X = df.drop(['id', 'stroke'], axis=1)\n",
    "y = df['stroke']\n"
   ]
  },
  {
   "cell_type": "code",
   "execution_count": 35,
   "id": "6a1b055b",
   "metadata": {},
   "outputs": [],
   "source": [
    "# Train-test split\n",
    "X_train, X_test, y_train, y_test = train_test_split(X, y, test_size=0.3, random_state=42)\n"
   ]
  },
  {
   "cell_type": "code",
   "execution_count": 36,
   "id": "1b37d764",
   "metadata": {},
   "outputs": [],
   "source": [
    "\n",
    "numeric_features = ['age', 'avg_glucose_level', 'bmi']\n",
    "categorical_features = ['gender', 'work_type', 'smoking_status']\n",
    "\n",
    "preprocessor = ColumnTransformer(\n",
    "    transformers=[\n",
    "        ('num', StandardScaler(), numeric_features),\n",
    "        ('cat', OneHotEncoder(handle_unknown='ignore'), categorical_features)\n",
    "    ],\n",
    "    remainder='passthrough'  \n",
    ")\n"
   ]
  },
  {
   "cell_type": "markdown",
   "id": "49f80776",
   "metadata": {},
   "source": [
    "# Resampling using SMOTE"
   ]
  },
  {
   "cell_type": "markdown",
   "id": "54c0e8c2",
   "metadata": {},
   "source": [
    "The data is highly biased towards a single class(no stroke).Hence we must handle class imbalance before training algorithms.For that we can use Synthetic Minority Oversampling Technique."
   ]
  },
  {
   "cell_type": "code",
   "execution_count": 37,
   "id": "b57fa558",
   "metadata": {},
   "outputs": [],
   "source": [
    "# Build pipeline with SMOTE\n",
    "pipeline = ImbPipeline(steps=[\n",
    "    ('preprocessor', preprocessor),\n",
    "    ('smote', SMOTE(random_state=42)),\n",
    "    ('classifier', LogisticRegression(random_state=42))\n",
    "])\n"
   ]
  },
  {
   "cell_type": "markdown",
   "id": "83945170",
   "metadata": {},
   "source": [
    "## Fitting Models\n",
    "\n",
    "We will fit three different models for stroke prediction:\n",
    "- **Logistic Regression**\n",
    "- **Support Vector Machine (SVM)**\n",
    "- **Random Forest**\n",
    "\n",
    "These models will be trained and evaluated on the resampled data using different performance metrics like accuracy, recall, precision, F1 score, and AUC-ROC score."
   ]
  },
  {
   "cell_type": "code",
   "execution_count": null,
   "id": "ea997bdb",
   "metadata": {},
   "outputs": [],
   "source": [
    "#Logistic Regression"
   ]
  },
  {
   "cell_type": "code",
   "execution_count": 38,
   "id": "2e33d36c",
   "metadata": {},
   "outputs": [
    {
     "name": "stdout",
     "output_type": "stream",
     "text": [
      "🔹 Logistic Regression\n",
      "Training score: 0.756152125279642\n",
      "Testing score: 0.7423352902804957\n",
      "Confusion Matrix:\n",
      "[[1074  370]\n",
      " [  25   64]]\n",
      "Accuracy: 0.7423352902804957\n",
      "Precision: 0.14746543778801843\n",
      "Recall: 0.7191011235955056\n",
      "F1 Score: 0.2447418738049713\n",
      "AUC-ROC Score: 0.731434218307448\n",
      "\n"
     ]
    }
   ],
   "source": [
    "lr_pipeline = ImbPipeline(steps=[\n",
    "    ('preprocessor', preprocessor),\n",
    "    ('smote', SMOTE(random_state=42)),\n",
    "    ('classifier', LogisticRegression(random_state=42))\n",
    "])\n",
    "\n",
    "lr_pipeline.fit(X_train, y_train)\n",
    "y_pred_lr = lr_pipeline.predict(X_test)\n",
    "\n",
    "print(\"🔹 Logistic Regression\")\n",
    "print(f\"Training score: {lr_pipeline.score(X_train, y_train)}\")\n",
    "print(f\"Testing score: {lr_pipeline.score(X_test, y_test)}\")\n",
    "print(f\"Confusion Matrix:\\n{confusion_matrix(y_test, y_pred_lr)}\")\n",
    "print(f\"Accuracy: {accuracy_score(y_test, y_pred_lr)}\")\n",
    "print(f\"Precision: {precision_score(y_test, y_pred_lr)}\")\n",
    "print(f\"Recall: {recall_score(y_test, y_pred_lr)}\")\n",
    "print(f\"F1 Score: {f1_score(y_test, y_pred_lr)}\")\n",
    "print(f\"AUC-ROC Score: {roc_auc_score(y_test, y_pred_lr)}\\n\")\n"
   ]
  },
  {
   "cell_type": "code",
   "execution_count": null,
   "id": "c9b55e8c",
   "metadata": {},
   "outputs": [],
   "source": [
    "# Support Vector Machine"
   ]
  },
  {
   "cell_type": "code",
   "execution_count": 39,
   "id": "3cf0e293",
   "metadata": {},
   "outputs": [
    {
     "name": "stdout",
     "output_type": "stream",
     "text": [
      "🔹 Support Vector Machine\n",
      "Training score: 0.8657718120805369\n",
      "Testing score: 0.8343118069145466\n",
      "Confusion Matrix:\n",
      "[[1238  206]\n",
      " [  48   41]]\n",
      "Accuracy: 0.8343118069145466\n",
      "Precision: 0.1659919028340081\n",
      "Recall: 0.4606741573033708\n",
      "F1 Score: 0.24404761904761904\n",
      "AUC-ROC Score: 0.6590074387624888\n",
      "\n"
     ]
    }
   ],
   "source": [
    "svm_pipeline = ImbPipeline(steps=[\n",
    "    ('preprocessor', preprocessor),\n",
    "    ('smote', SMOTE(random_state=42)),\n",
    "    ('classifier', SVC(kernel='rbf', probability=True, random_state=42))\n",
    "])\n",
    "\n",
    "svm_pipeline.fit(X_train, y_train)\n",
    "y_pred_svm = svm_pipeline.predict(X_test)\n",
    "\n",
    "print(\"🔹 Support Vector Machine\")\n",
    "print(f\"Training score: {svm_pipeline.score(X_train, y_train)}\")\n",
    "print(f\"Testing score: {svm_pipeline.score(X_test, y_test)}\")\n",
    "print(f\"Confusion Matrix:\\n{confusion_matrix(y_test, y_pred_svm)}\")\n",
    "print(f\"Accuracy: {accuracy_score(y_test, y_pred_svm)}\")\n",
    "print(f\"Precision: {precision_score(y_test, y_pred_svm)}\")\n",
    "print(f\"Recall: {recall_score(y_test, y_pred_svm)}\")\n",
    "print(f\"F1 Score: {f1_score(y_test, y_pred_svm)}\")\n",
    "print(f\"AUC-ROC Score: {roc_auc_score(y_test, y_pred_svm)}\\n\")\n"
   ]
  },
  {
   "cell_type": "code",
   "execution_count": null,
   "id": "912b87c3",
   "metadata": {},
   "outputs": [],
   "source": [
    "# Random Forest"
   ]
  },
  {
   "cell_type": "code",
   "execution_count": 40,
   "id": "f2a3f970",
   "metadata": {},
   "outputs": [
    {
     "name": "stdout",
     "output_type": "stream",
     "text": [
      "🔹 Random Forest Classifier\n",
      "Training score: 1.0\n",
      "Testing score: 0.9302022178734507\n",
      "Confusion Matrix:\n",
      "[[1419   25]\n",
      " [  82    7]]\n",
      "Accuracy: 0.9302022178734507\n",
      "Precision: 0.21875\n",
      "Recall: 0.07865168539325842\n",
      "F1 Score: 0.11570247933884299\n",
      "AUC-ROC Score: 0.5306693330013383\n",
      "\n"
     ]
    }
   ],
   "source": [
    "rf_pipeline = ImbPipeline(steps=[\n",
    "    ('preprocessor', preprocessor),\n",
    "    ('smote', SMOTE(random_state=42)),\n",
    "    ('classifier', RandomForestClassifier(random_state=42))\n",
    "])\n",
    "\n",
    "rf_pipeline.fit(X_train, y_train)\n",
    "y_pred_rf = rf_pipeline.predict(X_test)\n",
    "\n",
    "print(\"🔹 Random Forest Classifier\")\n",
    "print(f\"Training score: {rf_pipeline.score(X_train, y_train)}\")\n",
    "print(f\"Testing score: {rf_pipeline.score(X_test, y_test)}\")\n",
    "print(f\"Confusion Matrix:\\n{confusion_matrix(y_test, y_pred_rf)}\")\n",
    "print(f\"Accuracy: {accuracy_score(y_test, y_pred_rf)}\")\n",
    "print(f\"Precision: {precision_score(y_test, y_pred_rf)}\")\n",
    "print(f\"Recall: {recall_score(y_test, y_pred_rf)}\")\n",
    "print(f\"F1 Score: {f1_score(y_test, y_pred_rf)}\")\n",
    "print(f\"AUC-ROC Score: {roc_auc_score(y_test, y_pred_rf)}\\n\")\n"
   ]
  },
  {
   "cell_type": "markdown",
   "id": "322cf0f7",
   "metadata": {},
   "source": [
    "Recall is more important in our case.but rf completely failed on detecting strokes.the accuracy is higher since the data for not having stroke is higher and which is correctly classified.Between SVM and Logistic Regression,Logistic Regression has better recall and auc-roc score."
   ]
  },
  {
   "cell_type": "markdown",
   "id": "57c4efad",
   "metadata": {},
   "source": [
    "##  Predicting from Single Input"
   ]
  },
  {
   "cell_type": "code",
   "execution_count": 41,
   "id": "212783f5",
   "metadata": {},
   "outputs": [],
   "source": [
    "\n",
    "single_input = {\n",
    "    'gender': 'Male',\n",
    "    'age': 33,\n",
    "    'hypertension': 0,\n",
    "    'heart_disease': 0,\n",
    "    'ever_married': 'Yes',\n",
    "    'work_type': 'Private',\n",
    "    'residence_type': 'Urban',\n",
    "    'avg_glucose_level': 79.53,\n",
    "    'bmi': 31.10,\n",
    "    'smoking_status': 'formerly smoked'\n",
    "}"
   ]
  },
  {
   "cell_type": "code",
   "execution_count": 42,
   "id": "579c46f9",
   "metadata": {},
   "outputs": [],
   "source": [
    "\n",
    "# Convert single input to DataFrame\n",
    "single_df = pd.DataFrame([single_input])\n"
   ]
  },
  {
   "cell_type": "code",
   "execution_count": 43,
   "id": "993d9cc7",
   "metadata": {},
   "outputs": [],
   "source": [
    "# Apply same transformations to binary variables\n",
    "single_df['ever_married'] = single_df['ever_married'].apply(lambda x: 1 if x == 'Yes' else 0)\n",
    "single_df['residence_type'] = single_df['residence_type'].apply(lambda x: 1 if x == 'Urban' else 0)\n"
   ]
  },
  {
   "cell_type": "code",
   "execution_count": 44,
   "id": "ac4dde8d",
   "metadata": {},
   "outputs": [
    {
     "name": "stdout",
     "output_type": "stream",
     "text": [
      "Prediction for single input (1=stroke, 0=no stroke): 0\n"
     ]
    }
   ],
   "source": [
    "# Predict\n",
    "single_prediction = lr_pipeline.predict(single_df)[0]\n",
    "print(f\"Prediction for single input (1=stroke, 0=no stroke): {single_prediction}\")\n"
   ]
  },
  {
   "cell_type": "markdown",
   "id": "83d50034",
   "metadata": {},
   "source": [
    "## Saving the model"
   ]
  },
  {
   "cell_type": "code",
   "execution_count": 45,
   "id": "48f11f23",
   "metadata": {},
   "outputs": [
    {
     "data": {
      "text/plain": [
       "['stroke_model.pkl']"
      ]
     },
     "execution_count": 45,
     "metadata": {},
     "output_type": "execute_result"
    }
   ],
   "source": [
    "import joblib\n",
    "\n",
    "joblib.dump(lr_pipeline, 'stroke_model.pkl')\n"
   ]
  }
 ],
 "metadata": {
  "kernelspec": {
   "display_name": "Python 3",
   "language": "python",
   "name": "python3"
  },
  "language_info": {
   "codemirror_mode": {
    "name": "ipython",
    "version": 3
   },
   "file_extension": ".py",
   "mimetype": "text/x-python",
   "name": "python",
   "nbconvert_exporter": "python",
   "pygments_lexer": "ipython3",
   "version": "3.8.8"
  }
 },
 "nbformat": 4,
 "nbformat_minor": 5
}
